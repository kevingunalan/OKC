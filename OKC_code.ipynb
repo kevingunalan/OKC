{
 "cells": [
  {
   "cell_type": "markdown",
   "id": "188a619a",
   "metadata": {},
   "source": [
    "# Importing Libraries"
   ]
  },
  {
   "cell_type": "code",
   "execution_count": 539,
   "id": "effaf567",
   "metadata": {},
   "outputs": [],
   "source": [
    "import pandas as pd\n",
    "import numpy as np"
   ]
  },
  {
   "cell_type": "markdown",
   "id": "e1874631",
   "metadata": {},
   "source": [
    "# Loading the csv file"
   ]
  },
  {
   "cell_type": "code",
   "execution_count": 548,
   "id": "8861b883",
   "metadata": {},
   "outputs": [],
   "source": [
    "okc = pd.read_csv('shots_data.csv')"
   ]
  },
  {
   "cell_type": "code",
   "execution_count": 549,
   "id": "c7ff5dbb",
   "metadata": {},
   "outputs": [
    {
     "data": {
      "text/html": [
       "<div>\n",
       "<style scoped>\n",
       "    .dataframe tbody tr th:only-of-type {\n",
       "        vertical-align: middle;\n",
       "    }\n",
       "\n",
       "    .dataframe tbody tr th {\n",
       "        vertical-align: top;\n",
       "    }\n",
       "\n",
       "    .dataframe thead th {\n",
       "        text-align: right;\n",
       "    }\n",
       "</style>\n",
       "<table border=\"1\" class=\"dataframe\">\n",
       "  <thead>\n",
       "    <tr style=\"text-align: right;\">\n",
       "      <th></th>\n",
       "      <th>team</th>\n",
       "      <th>x</th>\n",
       "      <th>y</th>\n",
       "      <th>fgmade</th>\n",
       "    </tr>\n",
       "  </thead>\n",
       "  <tbody>\n",
       "    <tr>\n",
       "      <th>0</th>\n",
       "      <td>Team A</td>\n",
       "      <td>-23.1</td>\n",
       "      <td>3.5</td>\n",
       "      <td>0</td>\n",
       "    </tr>\n",
       "    <tr>\n",
       "      <th>1</th>\n",
       "      <td>Team A</td>\n",
       "      <td>0.0</td>\n",
       "      <td>25.1</td>\n",
       "      <td>1</td>\n",
       "    </tr>\n",
       "    <tr>\n",
       "      <th>2</th>\n",
       "      <td>Team A</td>\n",
       "      <td>0.5</td>\n",
       "      <td>1.0</td>\n",
       "      <td>1</td>\n",
       "    </tr>\n",
       "    <tr>\n",
       "      <th>3</th>\n",
       "      <td>Team A</td>\n",
       "      <td>-5.6</td>\n",
       "      <td>5.2</td>\n",
       "      <td>0</td>\n",
       "    </tr>\n",
       "    <tr>\n",
       "      <th>4</th>\n",
       "      <td>Team A</td>\n",
       "      <td>4.0</td>\n",
       "      <td>14.5</td>\n",
       "      <td>1</td>\n",
       "    </tr>\n",
       "    <tr>\n",
       "      <th>...</th>\n",
       "      <td>...</td>\n",
       "      <td>...</td>\n",
       "      <td>...</td>\n",
       "      <td>...</td>\n",
       "    </tr>\n",
       "    <tr>\n",
       "      <th>555</th>\n",
       "      <td>Team B</td>\n",
       "      <td>7.8</td>\n",
       "      <td>24.7</td>\n",
       "      <td>0</td>\n",
       "    </tr>\n",
       "    <tr>\n",
       "      <th>556</th>\n",
       "      <td>Team B</td>\n",
       "      <td>10.1</td>\n",
       "      <td>1.4</td>\n",
       "      <td>1</td>\n",
       "    </tr>\n",
       "    <tr>\n",
       "      <th>557</th>\n",
       "      <td>Team B</td>\n",
       "      <td>-17.8</td>\n",
       "      <td>-0.1</td>\n",
       "      <td>0</td>\n",
       "    </tr>\n",
       "    <tr>\n",
       "      <th>558</th>\n",
       "      <td>Team B</td>\n",
       "      <td>22.6</td>\n",
       "      <td>2.9</td>\n",
       "      <td>0</td>\n",
       "    </tr>\n",
       "    <tr>\n",
       "      <th>559</th>\n",
       "      <td>Team B</td>\n",
       "      <td>-0.7</td>\n",
       "      <td>14.7</td>\n",
       "      <td>1</td>\n",
       "    </tr>\n",
       "  </tbody>\n",
       "</table>\n",
       "<p>560 rows × 4 columns</p>\n",
       "</div>"
      ],
      "text/plain": [
       "       team     x     y  fgmade\n",
       "0    Team A -23.1   3.5       0\n",
       "1    Team A   0.0  25.1       1\n",
       "2    Team A   0.5   1.0       1\n",
       "3    Team A  -5.6   5.2       0\n",
       "4    Team A   4.0  14.5       1\n",
       "..      ...   ...   ...     ...\n",
       "555  Team B   7.8  24.7       0\n",
       "556  Team B  10.1   1.4       1\n",
       "557  Team B -17.8  -0.1       0\n",
       "558  Team B  22.6   2.9       0\n",
       "559  Team B  -0.7  14.7       1\n",
       "\n",
       "[560 rows x 4 columns]"
      ]
     },
     "execution_count": 549,
     "metadata": {},
     "output_type": "execute_result"
    }
   ],
   "source": [
    "okc"
   ]
  },
  {
   "cell_type": "markdown",
   "id": "baf77d8c",
   "metadata": {},
   "source": [
    "# Determine radius of the arc with x,y co-ordinates"
   ]
  },
  {
   "cell_type": "code",
   "execution_count": 550,
   "id": "002f2273",
   "metadata": {},
   "outputs": [],
   "source": [
    "okc['rad_crit'] = np.sqrt(okc['x']**2 + okc['y']**2)"
   ]
  },
  {
   "cell_type": "code",
   "execution_count": 551,
   "id": "38bad515",
   "metadata": {},
   "outputs": [
    {
     "data": {
      "text/html": [
       "<div>\n",
       "<style scoped>\n",
       "    .dataframe tbody tr th:only-of-type {\n",
       "        vertical-align: middle;\n",
       "    }\n",
       "\n",
       "    .dataframe tbody tr th {\n",
       "        vertical-align: top;\n",
       "    }\n",
       "\n",
       "    .dataframe thead th {\n",
       "        text-align: right;\n",
       "    }\n",
       "</style>\n",
       "<table border=\"1\" class=\"dataframe\">\n",
       "  <thead>\n",
       "    <tr style=\"text-align: right;\">\n",
       "      <th></th>\n",
       "      <th>team</th>\n",
       "      <th>x</th>\n",
       "      <th>y</th>\n",
       "      <th>fgmade</th>\n",
       "      <th>rad_crit</th>\n",
       "    </tr>\n",
       "  </thead>\n",
       "  <tbody>\n",
       "    <tr>\n",
       "      <th>0</th>\n",
       "      <td>Team A</td>\n",
       "      <td>-23.1</td>\n",
       "      <td>3.5</td>\n",
       "      <td>0</td>\n",
       "      <td>23.363647</td>\n",
       "    </tr>\n",
       "    <tr>\n",
       "      <th>1</th>\n",
       "      <td>Team A</td>\n",
       "      <td>0.0</td>\n",
       "      <td>25.1</td>\n",
       "      <td>1</td>\n",
       "      <td>25.100000</td>\n",
       "    </tr>\n",
       "    <tr>\n",
       "      <th>2</th>\n",
       "      <td>Team A</td>\n",
       "      <td>0.5</td>\n",
       "      <td>1.0</td>\n",
       "      <td>1</td>\n",
       "      <td>1.118034</td>\n",
       "    </tr>\n",
       "    <tr>\n",
       "      <th>3</th>\n",
       "      <td>Team A</td>\n",
       "      <td>-5.6</td>\n",
       "      <td>5.2</td>\n",
       "      <td>0</td>\n",
       "      <td>7.641989</td>\n",
       "    </tr>\n",
       "    <tr>\n",
       "      <th>4</th>\n",
       "      <td>Team A</td>\n",
       "      <td>4.0</td>\n",
       "      <td>14.5</td>\n",
       "      <td>1</td>\n",
       "      <td>15.041609</td>\n",
       "    </tr>\n",
       "    <tr>\n",
       "      <th>...</th>\n",
       "      <td>...</td>\n",
       "      <td>...</td>\n",
       "      <td>...</td>\n",
       "      <td>...</td>\n",
       "      <td>...</td>\n",
       "    </tr>\n",
       "    <tr>\n",
       "      <th>555</th>\n",
       "      <td>Team B</td>\n",
       "      <td>7.8</td>\n",
       "      <td>24.7</td>\n",
       "      <td>0</td>\n",
       "      <td>25.902316</td>\n",
       "    </tr>\n",
       "    <tr>\n",
       "      <th>556</th>\n",
       "      <td>Team B</td>\n",
       "      <td>10.1</td>\n",
       "      <td>1.4</td>\n",
       "      <td>1</td>\n",
       "      <td>10.196568</td>\n",
       "    </tr>\n",
       "    <tr>\n",
       "      <th>557</th>\n",
       "      <td>Team B</td>\n",
       "      <td>-17.8</td>\n",
       "      <td>-0.1</td>\n",
       "      <td>0</td>\n",
       "      <td>17.800281</td>\n",
       "    </tr>\n",
       "    <tr>\n",
       "      <th>558</th>\n",
       "      <td>Team B</td>\n",
       "      <td>22.6</td>\n",
       "      <td>2.9</td>\n",
       "      <td>0</td>\n",
       "      <td>22.785302</td>\n",
       "    </tr>\n",
       "    <tr>\n",
       "      <th>559</th>\n",
       "      <td>Team B</td>\n",
       "      <td>-0.7</td>\n",
       "      <td>14.7</td>\n",
       "      <td>1</td>\n",
       "      <td>14.716657</td>\n",
       "    </tr>\n",
       "  </tbody>\n",
       "</table>\n",
       "<p>560 rows × 5 columns</p>\n",
       "</div>"
      ],
      "text/plain": [
       "       team     x     y  fgmade   rad_crit\n",
       "0    Team A -23.1   3.5       0  23.363647\n",
       "1    Team A   0.0  25.1       1  25.100000\n",
       "2    Team A   0.5   1.0       1   1.118034\n",
       "3    Team A  -5.6   5.2       0   7.641989\n",
       "4    Team A   4.0  14.5       1  15.041609\n",
       "..      ...   ...   ...     ...        ...\n",
       "555  Team B   7.8  24.7       0  25.902316\n",
       "556  Team B  10.1   1.4       1  10.196568\n",
       "557  Team B -17.8  -0.1       0  17.800281\n",
       "558  Team B  22.6   2.9       0  22.785302\n",
       "559  Team B  -0.7  14.7       1  14.716657\n",
       "\n",
       "[560 rows x 5 columns]"
      ]
     },
     "execution_count": 551,
     "metadata": {},
     "output_type": "execute_result"
    }
   ],
   "source": [
    "okc"
   ]
  },
  {
   "cell_type": "markdown",
   "id": "838ffe13",
   "metadata": {},
   "source": [
    "The reason to calculate radius is to accurately differentiate the 3-pointers and the 2-points. Then, the radius is used as a criteria to account for the radius of the arc given as 23.75ft."
   ]
  },
  {
   "cell_type": "markdown",
   "id": "0e3a76b2",
   "metadata": {},
   "source": [
    "# Setting up criteria to classify based on zones"
   ]
  },
  {
   "cell_type": "code",
   "execution_count": 567,
   "id": "bce4a5cd",
   "metadata": {},
   "outputs": [],
   "source": [
    "okc['zone'] = np.where((okc['y'] > 7.8) & (okc['rad_crit'] > 23.75), \"NC3\", \"2PT\") #For non-corner 3Ps and 2PTs\n",
    "okc.loc[(okc['y'] <= 7.8) & (abs(okc['x']) > 22), 'zone'] = \"C3\" #For corner 3Ps"
   ]
  },
  {
   "cell_type": "markdown",
   "id": "3a776c10",
   "metadata": {},
   "source": [
    "# Displaying rows"
   ]
  },
  {
   "cell_type": "code",
   "execution_count": 553,
   "id": "790effb1",
   "metadata": {},
   "outputs": [
    {
     "data": {
      "text/html": [
       "<div>\n",
       "<style scoped>\n",
       "    .dataframe tbody tr th:only-of-type {\n",
       "        vertical-align: middle;\n",
       "    }\n",
       "\n",
       "    .dataframe tbody tr th {\n",
       "        vertical-align: top;\n",
       "    }\n",
       "\n",
       "    .dataframe thead th {\n",
       "        text-align: right;\n",
       "    }\n",
       "</style>\n",
       "<table border=\"1\" class=\"dataframe\">\n",
       "  <thead>\n",
       "    <tr style=\"text-align: right;\">\n",
       "      <th></th>\n",
       "      <th>team</th>\n",
       "      <th>x</th>\n",
       "      <th>y</th>\n",
       "      <th>fgmade</th>\n",
       "      <th>rad_crit</th>\n",
       "      <th>zone</th>\n",
       "    </tr>\n",
       "  </thead>\n",
       "  <tbody>\n",
       "    <tr>\n",
       "      <th>0</th>\n",
       "      <td>Team A</td>\n",
       "      <td>-23.1</td>\n",
       "      <td>3.5</td>\n",
       "      <td>0</td>\n",
       "      <td>23.363647</td>\n",
       "      <td>C3</td>\n",
       "    </tr>\n",
       "    <tr>\n",
       "      <th>1</th>\n",
       "      <td>Team A</td>\n",
       "      <td>0.0</td>\n",
       "      <td>25.1</td>\n",
       "      <td>1</td>\n",
       "      <td>25.100000</td>\n",
       "      <td>NC3</td>\n",
       "    </tr>\n",
       "    <tr>\n",
       "      <th>2</th>\n",
       "      <td>Team A</td>\n",
       "      <td>0.5</td>\n",
       "      <td>1.0</td>\n",
       "      <td>1</td>\n",
       "      <td>1.118034</td>\n",
       "      <td>2PT</td>\n",
       "    </tr>\n",
       "    <tr>\n",
       "      <th>3</th>\n",
       "      <td>Team A</td>\n",
       "      <td>-5.6</td>\n",
       "      <td>5.2</td>\n",
       "      <td>0</td>\n",
       "      <td>7.641989</td>\n",
       "      <td>2PT</td>\n",
       "    </tr>\n",
       "    <tr>\n",
       "      <th>4</th>\n",
       "      <td>Team A</td>\n",
       "      <td>4.0</td>\n",
       "      <td>14.5</td>\n",
       "      <td>1</td>\n",
       "      <td>15.041609</td>\n",
       "      <td>2PT</td>\n",
       "    </tr>\n",
       "  </tbody>\n",
       "</table>\n",
       "</div>"
      ],
      "text/plain": [
       "     team     x     y  fgmade   rad_crit zone\n",
       "0  Team A -23.1   3.5       0  23.363647   C3\n",
       "1  Team A   0.0  25.1       1  25.100000  NC3\n",
       "2  Team A   0.5   1.0       1   1.118034  2PT\n",
       "3  Team A  -5.6   5.2       0   7.641989  2PT\n",
       "4  Team A   4.0  14.5       1  15.041609  2PT"
      ]
     },
     "execution_count": 553,
     "metadata": {},
     "output_type": "execute_result"
    }
   ],
   "source": [
    "okc.head()"
   ]
  },
  {
   "cell_type": "markdown",
   "id": "2385192e",
   "metadata": {},
   "source": [
    "# Using GroupBy"
   ]
  },
  {
   "cell_type": "code",
   "execution_count": 554,
   "id": "fbdc48e3",
   "metadata": {},
   "outputs": [],
   "source": [
    "okc_gb = okc.groupby(['team','zone','fgmade'], group_keys=True)['fgmade'].size()"
   ]
  },
  {
   "cell_type": "code",
   "execution_count": 555,
   "id": "7f8b1f8f",
   "metadata": {},
   "outputs": [
    {
     "data": {
      "text/plain": [
       "team    zone  fgmade\n",
       "Team A  2PT   0         102\n",
       "              1          68\n",
       "        C3    0          12\n",
       "              1           8\n",
       "        NC3   0          61\n",
       "              1          29\n",
       "Team B  2PT   0          88\n",
       "              1          75\n",
       "        C3    0          16\n",
       "              1           5\n",
       "        NC3   0          61\n",
       "              1          35\n",
       "Name: fgmade, dtype: int64"
      ]
     },
     "execution_count": 555,
     "metadata": {},
     "output_type": "execute_result"
    }
   ],
   "source": [
    "okc_gb"
   ]
  },
  {
   "cell_type": "markdown",
   "id": "08aeea7f",
   "metadata": {},
   "source": [
    "# Function to determine %eFG"
   ]
  },
  {
   "cell_type": "code",
   "execution_count": 556,
   "id": "f7515e09",
   "metadata": {},
   "outputs": [],
   "source": [
    "def efg(data,team,zone):\n",
    "    s = data[team]\n",
    "    fgpercent = ((s[zone,1])+0.5*(s[['C3','NC3']][1] + s[['C3','NC3']][3]))/(s[zone].sum())\n",
    "    return round(fgpercent,3)    "
   ]
  },
  {
   "cell_type": "markdown",
   "id": "61304b12",
   "metadata": {},
   "source": [
    "# Function to determine shot distribution"
   ]
  },
  {
   "cell_type": "code",
   "execution_count": 557,
   "id": "a0a63b6b",
   "metadata": {},
   "outputs": [],
   "source": [
    "def shot_dis(data,zone):\n",
    "    team_A_percent = (data['Team A',zone].sum())/(data['Team A',zone].sum() + data['Team B',zone].sum())\n",
    "    team_B_percent = 1 - team_A_percent\n",
    "    return print('Shot Distribution of Team A: ' + str(round(team_A_percent, 3)) + '\\n','Shot Distribution of Team B: ' + str(round(team_B_percent, 3)))"
   ]
  },
  {
   "cell_type": "markdown",
   "id": "4ddfb4cf",
   "metadata": {},
   "source": [
    "# Team A - Zone %eFG"
   ]
  },
  {
   "cell_type": "code",
   "execution_count": 558,
   "id": "654f3102",
   "metadata": {},
   "outputs": [
    {
     "data": {
      "text/plain": [
       "0.509"
      ]
     },
     "execution_count": 558,
     "metadata": {},
     "output_type": "execute_result"
    }
   ],
   "source": [
    "efg(okc_gb, 'Team A', '2PT')"
   ]
  },
  {
   "cell_type": "code",
   "execution_count": 560,
   "id": "f63021f8",
   "metadata": {},
   "outputs": [
    {
     "data": {
      "text/plain": [
       "0.528"
      ]
     },
     "execution_count": 560,
     "metadata": {},
     "output_type": "execute_result"
    }
   ],
   "source": [
    "efg(okc_gb, 'Team A', 'NC3')"
   ]
  },
  {
   "cell_type": "code",
   "execution_count": 559,
   "id": "20f526ee",
   "metadata": {},
   "outputs": [
    {
     "data": {
      "text/plain": [
       "1.325"
      ]
     },
     "execution_count": 559,
     "metadata": {},
     "output_type": "execute_result"
    }
   ],
   "source": [
    "efg(okc_gb, 'Team A', 'C3')"
   ]
  },
  {
   "cell_type": "markdown",
   "id": "5a1e0c74",
   "metadata": {},
   "source": [
    "# Team B - Zone %eFG"
   ]
  },
  {
   "cell_type": "code",
   "execution_count": 561,
   "id": "a55ff1d7",
   "metadata": {},
   "outputs": [
    {
     "data": {
      "text/plain": [
       "0.583"
      ]
     },
     "execution_count": 561,
     "metadata": {},
     "output_type": "execute_result"
    }
   ],
   "source": [
    "efg(okc_gb, 'Team B', '2PT')"
   ]
  },
  {
   "cell_type": "code",
   "execution_count": 563,
   "id": "e7649376",
   "metadata": {},
   "outputs": [
    {
     "data": {
      "text/plain": [
       "0.573"
      ]
     },
     "execution_count": 563,
     "metadata": {},
     "output_type": "execute_result"
    }
   ],
   "source": [
    "efg(okc_gb, 'Team B', 'NC3')"
   ]
  },
  {
   "cell_type": "code",
   "execution_count": 562,
   "id": "86a196f2",
   "metadata": {},
   "outputs": [
    {
     "data": {
      "text/plain": [
       "1.19"
      ]
     },
     "execution_count": 562,
     "metadata": {},
     "output_type": "execute_result"
    }
   ],
   "source": [
    "efg(okc_gb, 'Team B', 'C3')"
   ]
  },
  {
   "cell_type": "markdown",
   "id": "85964726",
   "metadata": {},
   "source": [
    "# Shot Distribution - Team A & Team B"
   ]
  },
  {
   "cell_type": "code",
   "execution_count": 564,
   "id": "ca332b42",
   "metadata": {},
   "outputs": [
    {
     "name": "stdout",
     "output_type": "stream",
     "text": [
      "Shot Distribution of Team A: 0.511\n",
      " Shot Distribution of Team B: 0.489\n"
     ]
    }
   ],
   "source": [
    "shot_dis(okc_gb,'2PT')"
   ]
  },
  {
   "cell_type": "code",
   "execution_count": 566,
   "id": "99ac122f",
   "metadata": {},
   "outputs": [
    {
     "name": "stdout",
     "output_type": "stream",
     "text": [
      "Shot Distribution of Team A: 0.484\n",
      " Shot Distribution of Team B: 0.516\n"
     ]
    }
   ],
   "source": [
    "shot_dis(okc_gb,'NC3')"
   ]
  },
  {
   "cell_type": "code",
   "execution_count": 565,
   "id": "403223bc",
   "metadata": {},
   "outputs": [
    {
     "name": "stdout",
     "output_type": "stream",
     "text": [
      "Shot Distribution of Team A: 0.488\n",
      " Shot Distribution of Team B: 0.512\n"
     ]
    }
   ],
   "source": [
    "shot_dis(okc_gb,'C3')"
   ]
  }
 ],
 "metadata": {
  "kernelspec": {
   "display_name": "Python 3 (ipykernel)",
   "language": "python",
   "name": "python3"
  },
  "language_info": {
   "codemirror_mode": {
    "name": "ipython",
    "version": 3
   },
   "file_extension": ".py",
   "mimetype": "text/x-python",
   "name": "python",
   "nbconvert_exporter": "python",
   "pygments_lexer": "ipython3",
   "version": "3.9.7"
  }
 },
 "nbformat": 4,
 "nbformat_minor": 5
}
